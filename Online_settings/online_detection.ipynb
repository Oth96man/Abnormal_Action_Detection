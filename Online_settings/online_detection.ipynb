{
  "nbformat": 4,
  "nbformat_minor": 0,
  "metadata": {
    "colab": {
      "name": "c3d.ipynb",
      "version": "0.3.2",
      "provenance": [],
      "collapsed_sections": [],
      "toc_visible": true
    },
    "kernelspec": {
      "display_name": "Python 3",
      "language": "python",
      "name": "python3"
    }
  },
  "cells": [
    {
      "metadata": {
        "id": "sNt9Ua2g8dCR",
        "colab_type": "code",
        "colab": {
          "base_uri": "https://localhost:8080/",
          "height": 67
        },
        "outputId": "181eece2-cf8c-4e37-9fc3-2a548e737377"
      },
      "cell_type": "code",
      "source": [
        "!pip  install sk-video"
      ],
      "execution_count": 1,
      "outputs": [
        {
          "output_type": "stream",
          "text": [
            "Requirement already satisfied: sk-video in /usr/local/lib/python3.6/dist-packages (1.1.10)\n",
            "Requirement already satisfied: numpy in /usr/local/lib/python3.6/dist-packages (from sk-video) (1.14.6)\n",
            "Requirement already satisfied: scipy in /usr/local/lib/python3.6/dist-packages (from sk-video) (1.1.0)\n"
          ],
          "name": "stdout"
        }
      ]
    },
    {
      "metadata": {
        "id": "7oZnWo9ALYm_",
        "colab_type": "code",
        "colab": {
          "base_uri": "https://localhost:8080/",
          "height": 34
        },
        "outputId": "e41fca07-daa2-4c08-a430-e86535f1c37c"
      },
      "cell_type": "code",
      "source": [
        "import keras.backend as K\n",
        "from keras.models import Sequential, Model\n",
        "from keras.utils.data_utils import get_file\n",
        "from keras.layers import Input, Conv3D, MaxPooling3D, Dense, Flatten, ZeroPadding3D, Dropout, Subtract\n",
        "import skvideo.io\n",
        "import numpy as np"
      ],
      "execution_count": 2,
      "outputs": [
        {
          "output_type": "stream",
          "text": [
            "Using TensorFlow backend.\n"
          ],
          "name": "stderr"
        }
      ]
    },
    {
      "metadata": {
        "id": "SjedvEE6LYnF",
        "colab_type": "code",
        "colab": {}
      },
      "cell_type": "code",
      "source": [
        "WEIGHTS_PATH = 'https://github.com/adamcasson/c3d/releases/download/v0.1/sports1M_weights_tf.h5'\n",
        "C3D_MEAN_PATH = 'https://github.com/adamcasson/c3d/releases/download/v0.1/c3d_mean.npy'"
      ],
      "execution_count": 0,
      "outputs": []
    },
    {
      "metadata": {
        "id": "n0IbdEdZZAJZ",
        "colab_type": "code",
        "colab": {}
      },
      "cell_type": "code",
      "source": [
        "if K.image_data_format() == 'channels_last':    \n",
        "    shape0 = (16,112,112,3)    \n",
        "else:   \n",
        "    shape0 = (3,16,112,112)\n",
        "\n",
        "model_base = Sequential()\n",
        "    \n",
        "model_base.add(Conv3D(64, 3, activation='relu', padding='same', name='conv1', input_shape=shape0))\n",
        "model_base.add(MaxPooling3D(pool_size=(1,2,2), strides=(1,2,2), padding='same', name='pool1'))\n",
        "    \n",
        "model_base.add(Conv3D(128, 3, activation='relu', padding='same', name='conv2'))\n",
        "model_base.add(MaxPooling3D(pool_size=(2,2,2), strides=(2,2,2), padding='valid', name='pool2'))\n",
        "    \n",
        "model_base.add(Conv3D(256, 3, activation='relu', padding='same', name='conv3a'))\n",
        "model_base.add(Conv3D(256, 3, activation='relu', padding='same', name='conv3b'))\n",
        "model_base.add(MaxPooling3D(pool_size=(2,2,2), strides=(2,2,2), padding='valid', name='pool3'))\n",
        "    \n",
        "model_base.add(Conv3D(512, 3, activation='relu', padding='same', name='conv4a'))\n",
        "model_base.add(Conv3D(512, 3, activation='relu', padding='same', name='conv4b'))\n",
        "model_base.add(MaxPooling3D(pool_size=(2,2,2), strides=(2,2,2), padding='valid', name='pool4'))\n",
        "    \n",
        "model_base.add(Conv3D(512, 3, activation='relu', padding='same', name='conv5a'))\n",
        "model_base.add(Conv3D(512, 3, activation='relu', padding='same', name='conv5b'))\n",
        "model_base.add(ZeroPadding3D(padding=(0,1,1)))\n",
        "model_base.add(MaxPooling3D(pool_size=(2,2,2), strides=(2,2,2), padding='valid', name='pool5'))\n",
        "    \n",
        "model_base.add(Flatten())\n",
        "    \n",
        "model_base.add(Dense(4096, activation='relu', name='fc6'))\n",
        "model_base.add(Dropout(0.5))\n",
        "model_base.add(Dense(4096, activation='relu', name='fc7'))\n",
        "model_base.add(Dropout(0.5))\n",
        "model_base.add(Dense(487, activation='softmax', name='fc8'))\n",
        "\n",
        "weights_path = get_file('sports1M_weights_tf.h5',\n",
        "                         WEIGHTS_PATH,\n",
        "                         cache_subdir='models',\n",
        "                         md5_hash='b7a93b2f9156ccbebe3ca24b41fc5402')\n",
        "        \n",
        "model_base.load_weights(weights_path)\n",
        "\n",
        "model_base.pop()\n",
        "\n",
        "\n"
      ],
      "execution_count": 0,
      "outputs": []
    },
    {
      "metadata": {
        "id": "ErFTGOPbbTN7",
        "colab_type": "code",
        "colab": {}
      },
      "cell_type": "code",
      "source": [
        "start_window = Input(shape=shape0, dtype='float32', name='start_window')\n",
        "followup_window = Input(shape=shape0, dtype='float32', name='followup_window')\n",
        "\n",
        "fc7 =model_base(start_window)\n",
        "\n",
        "drop2 = Dropout(0.5)(fc7)\n",
        "fc8 = Dense(2, activation='sigmoid', name='fc8')(drop2)\n",
        "\n",
        "\n",
        "out1 = fc7\n",
        "out2 = model_base(followup_window)\n",
        "\n",
        "out = Subtract(name='out')([out1, out2])\n",
        "\n",
        "model = Model([start_window,followup_window],[fc8,out])\n",
        "\n",
        "model.summary()"
      ],
      "execution_count": 0,
      "outputs": []
    },
    {
      "metadata": {
        "id": "Wcw9IpFpg2VK",
        "colab_type": "code",
        "colab": {}
      },
      "cell_type": "code",
      "source": [
        "def loss_classification(y_true, y_pred):\n",
        "    return -K.mean(K.log(K.dot(y_pred,K.transpose(y_true))), axis=-1)\n",
        "    \n",
        "def loss_temporal_consistency(y_true,y_pred):\n",
        "    return K.mean(K.square(K.dot(out,K.transpose(y_true))), axis=-1)"
      ],
      "execution_count": 0,
      "outputs": []
    },
    {
      "metadata": {
        "id": "aGm0m4eLg_mS",
        "colab_type": "code",
        "colab": {}
      },
      "cell_type": "code",
      "source": [
        "model.compile(optimizer='adam',\n",
        "              loss={'fc8': loss_classification, 'out': loss_temporal_consistency},\n",
        "              loss_weights={'fc8': 1., 'out': 1})"
      ],
      "execution_count": 0,
      "outputs": []
    },
    {
      "metadata": {
        "id": "3_sja5gW9Ir0",
        "colab_type": "code",
        "colab": {}
      },
      "cell_type": "code",
      "source": [
        "import random \n",
        "import matplotlib.pyplot as plt \n",
        "\n",
        "\n",
        "path1 = '../content/Normal_Videos_050_x264.mp4'\n",
        "path2 = '../content/Abuse001_x264.mp4'\n",
        "\n",
        "\n",
        "Normal_Video = skvideo.io.vread(path1,\n",
        "                          outputdict={\n",
        "                            \"-sws_flags\": \"bilinear\",\n",
        "                            \"-s\": \"112x112\"\n",
        "                          })\n",
        "\n",
        "Abnormal_Video = skvideo.io.vread(path2,\n",
        "                          outputdict={\n",
        "                            \"-sws_flags\": \"bilinear\",\n",
        "                            \"-s\": \"112x112\"\n",
        "                          })\n",
        "\n",
        "action_intervals = [[230, 365], [-1,-1]]\n",
        "\n",
        "Videos = [Normal_Video, Abnormal_Video]\n",
        "\n",
        "\n",
        "# Let's train the model on two videos (Extansion well be easy)\n",
        "# We do just on training iteration, in which we create one batch containing Nb_training_examples = Nb_abnormal*15\n",
        "\n",
        "print(\"Constructing Postive Exapmles\")\n",
        "positive_indexes = []\n",
        "\n",
        "count = -1\n",
        "for action in range(len(action_intervals)):\n",
        "  positive_indexes.append([])\n",
        "  start = action_intervals[action][0]\n",
        "  idx = 0\n",
        "  while (start!=-1) and (idx < len(action_intervals[action])):\n",
        "    start = action_intervals[action][idx]\n",
        "    idx += 2\n",
        "    positive_indexes[action] = positive_indexes[action]+([start-15+i for i in range(15)])\n",
        "    \n",
        "    for i in range(15):\n",
        "      count += 1\n",
        "      if(count==0):\n",
        "        actuals = np.expand_dims(Videos[action][start-15+i:start+i+1], axis=0)\n",
        "        nexts = np.expand_dims(Videos[action][start+i+1:start+i+17], axis=0)\n",
        "      if(count>0):\n",
        "        actuals = np.vstack((actuals, np.expand_dims(Videos[action][start-15+i:start+i+1], axis=0)))\n",
        "        nexts   = np.vstack((nexts, np.expand_dims(Videos[action][start+i+1:start+i+17], axis=0)))\n",
        "\n",
        "nbr_positive = actuals.shape[0]\n",
        "print(\"Constructing Negativve Exapmles\")\n",
        "\n",
        "nbr_neg = 0 # nbr of negative examples selected \n",
        "while (nbr_neg<nbr_positive):\n",
        "  video_indx = random.randint(0,len(Videos)-1) #Pick randomly a video \n",
        "  start_frame = random.randint(0,Videos[video_indx].shape[0]-33)\n",
        "  \n",
        "  while (start_frame in positive_indexes[video_indx]):\n",
        "    start_frame = random.randint(0,Videos[video_indx].shape[0]-33) #pick a new sequence till it is abnormal\n",
        "  nbr_neg = nbr_neg + 1\n",
        "  \n",
        "  actuals = np.vstack((actuals, np.expand_dims(Videos[video_indx][start_frame:start_frame+16], axis=0)))\n",
        "  nexts   = np.vstack((nexts, np.expand_dims(Videos[video_indx][start_frame+16:start_frame+32], axis=0)))\n",
        "  \n",
        "inputs = [actuals, nexts]\n",
        "labels = np.zeros((nbr_positive+nbr_neg,1))\n",
        "labels[0:nbr_positive,:] += 1 \n",
        "\n",
        "labels_1 = labels\n",
        "\n",
        "labels = np.zeros((nbr_positive+nbr_neg,4096))\n",
        "labels[0:nbr_positive,:] += 1\n",
        "\n",
        "labels_2 = labels\n",
        "\n",
        "labels = [labels_1, lables_2]\n",
        "\n",
        "\n",
        "print(\"Start Training\")\n",
        "loss = model.train_on_batch(inputs, labels)"
      ],
      "execution_count": 0,
      "outputs": []
    },
    {
      "metadata": {
        "id": "rUbmWmpBPx5I",
        "colab_type": "code",
        "colab": {}
      },
      "cell_type": "code",
      "source": [
        "loss"
      ],
      "execution_count": 0,
      "outputs": []
    }
  ]
}