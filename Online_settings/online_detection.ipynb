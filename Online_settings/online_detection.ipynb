{
  "nbformat": 4,
  "nbformat_minor": 0,
  "metadata": {
    "colab": {
      "name": "c3d.ipynb",
      "version": "0.3.2",
      "provenance": [],
      "collapsed_sections": [],
      "toc_visible": true
    },
    "kernelspec": {
      "display_name": "Python 3",
      "language": "python",
      "name": "python3"
    }
  },
  "cells": [
    {
      "metadata": {
        "id": "sNt9Ua2g8dCR",
        "colab_type": "code",
        "colab": {
          "base_uri": "https://localhost:8080/",
          "height": 67
        },
        "outputId": "6472f4b5-b898-4433-af4c-0c9b6c7fb8a2"
      },
      "cell_type": "code",
      "source": [
        "!pip  install sk-video"
      ],
      "execution_count": 1,
      "outputs": [
        {
          "output_type": "stream",
          "text": [
            "Requirement already satisfied: sk-video in /usr/local/lib/python3.6/dist-packages (1.1.10)\n",
            "Requirement already satisfied: scipy in /usr/local/lib/python3.6/dist-packages (from sk-video) (1.1.0)\n",
            "Requirement already satisfied: numpy in /usr/local/lib/python3.6/dist-packages (from sk-video) (1.14.6)\n"
          ],
          "name": "stdout"
        }
      ]
    },
    {
      "metadata": {
        "id": "7oZnWo9ALYm_",
        "colab_type": "code",
        "colab": {
          "base_uri": "https://localhost:8080/",
          "height": 34
        },
        "outputId": "b2abbc78-0308-412b-e028-71074057b2db"
      },
      "cell_type": "code",
      "source": [
        "import keras.backend as K\n",
        "from keras.models import Sequential, Model\n",
        "from keras.utils.data_utils import get_file\n",
        "from keras.layers import Input, Conv3D, MaxPooling3D, Dense, Flatten, ZeroPadding3D, Dropout, Subtract\n",
        "import skvideo.io\n",
        "import numpy as np"
      ],
      "execution_count": 2,
      "outputs": [
        {
          "output_type": "stream",
          "text": [
            "Using TensorFlow backend.\n"
          ],
          "name": "stderr"
        }
      ]
    },
    {
      "metadata": {
        "id": "SjedvEE6LYnF",
        "colab_type": "code",
        "colab": {}
      },
      "cell_type": "code",
      "source": [
        "WEIGHTS_PATH = 'https://github.com/adamcasson/c3d/releases/download/v0.1/sports1M_weights_tf.h5'\n",
        "C3D_MEAN_PATH = 'https://github.com/adamcasson/c3d/releases/download/v0.1/c3d_mean.npy'"
      ],
      "execution_count": 0,
      "outputs": []
    },
    {
      "metadata": {
        "id": "n0IbdEdZZAJZ",
        "colab_type": "code",
        "colab": {}
      },
      "cell_type": "code",
      "source": [
        "if K.image_data_format() == 'channels_last':    \n",
        "    shape0 = (16,112,112,3)    \n",
        "else:   \n",
        "    shape0 = (3,16,112,112)\n",
        "\n",
        "model_base = Sequential()\n",
        "    \n",
        "model_base.add(Conv3D(64, 3, activation='relu', padding='same', name='conv1', input_shape=shape0))\n",
        "model_base.add(MaxPooling3D(pool_size=(1,2,2), strides=(1,2,2), padding='same', name='pool1'))\n",
        "    \n",
        "model_base.add(Conv3D(128, 3, activation='relu', padding='same', name='conv2'))\n",
        "model_base.add(MaxPooling3D(pool_size=(2,2,2), strides=(2,2,2), padding='valid', name='pool2'))\n",
        "    \n",
        "model_base.add(Conv3D(256, 3, activation='relu', padding='same', name='conv3a'))\n",
        "model_base.add(Conv3D(256, 3, activation='relu', padding='same', name='conv3b'))\n",
        "model_base.add(MaxPooling3D(pool_size=(2,2,2), strides=(2,2,2), padding='valid', name='pool3'))\n",
        "    \n",
        "model_base.add(Conv3D(512, 3, activation='relu', padding='same', name='conv4a'))\n",
        "model_base.add(Conv3D(512, 3, activation='relu', padding='same', name='conv4b'))\n",
        "model_base.add(MaxPooling3D(pool_size=(2,2,2), strides=(2,2,2), padding='valid', name='pool4'))\n",
        "    \n",
        "model_base.add(Conv3D(512, 3, activation='relu', padding='same', name='conv5a'))\n",
        "model_base.add(Conv3D(512, 3, activation='relu', padding='same', name='conv5b'))\n",
        "model_base.add(ZeroPadding3D(padding=(0,1,1)))\n",
        "model_base.add(MaxPooling3D(pool_size=(2,2,2), strides=(2,2,2), padding='valid', name='pool5'))\n",
        "    \n",
        "model_base.add(Flatten())\n",
        "    \n",
        "model_base.add(Dense(4096, activation='relu', name='fc6'))\n",
        "model_base.add(Dropout(0.5))\n",
        "model_base.add(Dense(4096, activation='relu', name='fc7'))\n",
        "model_base.add(Dropout(0.5))\n",
        "model_base.add(Dense(487, activation='softmax', name='fc8'))\n",
        "\n",
        "weights_path = get_file('sports1M_weights_tf.h5',\n",
        "                         WEIGHTS_PATH,\n",
        "                         cache_subdir='models',\n",
        "                         md5_hash='b7a93b2f9156ccbebe3ca24b41fc5402')\n",
        "        \n",
        "model_base.load_weights(weights_path)\n",
        "\n",
        "model_base.pop()\n",
        "\n",
        "\n"
      ],
      "execution_count": 0,
      "outputs": []
    },
    {
      "metadata": {
        "id": "ErFTGOPbbTN7",
        "colab_type": "code",
        "colab": {
          "base_uri": "https://localhost:8080/",
          "height": 370
        },
        "outputId": "0287763b-7a20-4e6c-ce8f-9d06348ad51c"
      },
      "cell_type": "code",
      "source": [
        "start_window = Input(shape=shape0, dtype='float32', name='start_window')\n",
        "followup_window = Input(shape=shape0, dtype='float32', name='followup_window')\n",
        "\n",
        "fc7 =model_base(start_window)\n",
        "\n",
        "drop2 = Dropout(0.5)(fc7)\n",
        "fc8 = Dense(2, activation='sigmoid', name='fc8')(drop2)\n",
        "\n",
        "\n",
        "out1 = fc7\n",
        "out2 = model_base(followup_window)\n",
        "\n",
        "out = Subtract(name='out')([out1, out2])\n",
        "\n",
        "model = Model([start_window,followup_window],[fc8,out])\n",
        "\n",
        "model.summary()"
      ],
      "execution_count": 5,
      "outputs": [
        {
          "output_type": "stream",
          "text": [
            "__________________________________________________________________________________________________\n",
            "Layer (type)                    Output Shape         Param #     Connected to                     \n",
            "==================================================================================================\n",
            "start_window (InputLayer)       (None, 16, 112, 112, 0                                            \n",
            "__________________________________________________________________________________________________\n",
            "sequential_1 (Sequential)       (None, 4096)         77995776    start_window[0][0]               \n",
            "                                                                 followup_window[0][0]            \n",
            "__________________________________________________________________________________________________\n",
            "followup_window (InputLayer)    (None, 16, 112, 112, 0                                            \n",
            "__________________________________________________________________________________________________\n",
            "dropout_3 (Dropout)             (None, 4096)         0           sequential_1[1][0]               \n",
            "__________________________________________________________________________________________________\n",
            "fc8 (Dense)                     (None, 2)            8194        dropout_3[0][0]                  \n",
            "__________________________________________________________________________________________________\n",
            "out (Subtract)                  (None, 4096)         0           sequential_1[1][0]               \n",
            "                                                                 sequential_1[2][0]               \n",
            "==================================================================================================\n",
            "Total params: 78,003,970\n",
            "Trainable params: 78,003,970\n",
            "Non-trainable params: 0\n",
            "__________________________________________________________________________________________________\n"
          ],
          "name": "stdout"
        }
      ]
    },
    {
      "metadata": {
        "id": "Wcw9IpFpg2VK",
        "colab_type": "code",
        "colab": {}
      },
      "cell_type": "code",
      "source": [
        "def loss_classification(y_true, y_pred):\n",
        "    return -K.mean(K.log(K.dot(y_pred,K.transpose(y_true))), axis=-1)\n",
        "    \n",
        "def loss_temporal_consistency(y_true,y_pred):\n",
        "    return K.mean(K.square(K.dot(out,K.transpose(y_true))), axis=-1)"
      ],
      "execution_count": 0,
      "outputs": []
    },
    {
      "metadata": {
        "id": "aGm0m4eLg_mS",
        "colab_type": "code",
        "colab": {}
      },
      "cell_type": "code",
      "source": [
        "model.compile(optimizer='adam',\n",
        "              loss={'fc8': loss_classification, 'out': loss_temporal_consistency},\n",
        "              loss_weights={'fc8': 1., 'out': 1})"
      ],
      "execution_count": 0,
      "outputs": []
    },
    {
      "metadata": {
        "id": "3_sja5gW9Ir0",
        "colab_type": "code",
        "colab": {
          "base_uri": "https://localhost:8080/",
          "height": 67
        },
        "outputId": "4e35ef51-7d70-41ec-c1a9-591ce4d6f67d"
      },
      "cell_type": "code",
      "source": [
        "import matplotlib.pyplot as plt \n",
        "\n",
        "\n",
        "path1 = '../content/Normal_Videos_015_x264.mp4'\n",
        "path2 = '../content/Normal_Videos_050_x264.mp4'\n",
        "\n",
        "\n",
        "\n",
        "\n",
        "Video = skvideo.io.vread(path1,\n",
        "                          outputdict={\n",
        "                            \"-sws_flags\": \"bilinear\",\n",
        "                            \"-s\": \"112x112\"\n",
        "                          })\n",
        "\n",
        "sequence1 = Video[:16]\n",
        "sequence2 = Video[16:32]\n",
        "\n",
        "sequence1  = np.expand_dims(sequence1, axis=0)\n",
        "sequence2 = np.expand_dims(sequence2, axis=0)\n",
        "\n",
        "features = model.predict([sequence1,sequence2])\n",
        "features"
      ],
      "execution_count": 8,
      "outputs": [
        {
          "output_type": "execute_result",
          "data": {
            "text/plain": [
              "[array([[0.46909508, 0.3023162 ]], dtype=float32),\n",
              " array([[0.45791927, 0.        , 0.        , ..., 0.        , 0.        ,\n",
              "         0.        ]], dtype=float32)]"
            ]
          },
          "metadata": {
            "tags": []
          },
          "execution_count": 8
        }
      ]
    }
  ]
}