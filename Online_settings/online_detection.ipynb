{
  "nbformat": 4,
  "nbformat_minor": 0,
  "metadata": {
    "colab": {
      "name": "online_detection.ipynb",
      "version": "0.3.2",
      "provenance": [],
      "collapsed_sections": []
    },
    "kernelspec": {
      "display_name": "Python 3",
      "language": "python",
      "name": "python3"
    }
  },
  "cells": [
    {
      "metadata": {
        "id": "sNt9Ua2g8dCR",
        "colab_type": "code",
        "outputId": "9b7274d4-48c6-42bf-8804-b3a2f2452b53",
        "colab": {
          "base_uri": "https://localhost:8080/",
          "height": 72
        }
      },
      "cell_type": "code",
      "source": [
        "!pip  install sk-video"
      ],
      "execution_count": 63,
      "outputs": [
        {
          "output_type": "stream",
          "text": [
            "Requirement already satisfied: sk-video in /usr/local/lib/python3.6/dist-packages (1.1.10)\n",
            "Requirement already satisfied: numpy in /usr/local/lib/python3.6/dist-packages (from sk-video) (1.14.6)\n",
            "Requirement already satisfied: scipy in /usr/local/lib/python3.6/dist-packages (from sk-video) (1.1.0)\n"
          ],
          "name": "stdout"
        }
      ]
    },
    {
      "metadata": {
        "id": "7oZnWo9ALYm_",
        "colab_type": "code",
        "colab": {}
      },
      "cell_type": "code",
      "source": [
        "import keras.backend as K\n",
        "from keras.models import Sequential, Model\n",
        "from keras.utils.data_utils import get_file\n",
        "from keras.layers import Input, Conv3D, MaxPooling3D, Dense, Flatten, ZeroPadding3D, Dropout, Subtract, BatchNormalization, Lambda\n",
        "import skvideo.io\n",
        "import numpy as np"
      ],
      "execution_count": 0,
      "outputs": []
    },
    {
      "metadata": {
        "id": "SjedvEE6LYnF",
        "colab_type": "code",
        "colab": {}
      },
      "cell_type": "code",
      "source": [
        "WEIGHTS_PATH = 'https://github.com/adamcasson/c3d/releases/download/v0.1/sports1M_weights_tf.h5'\n",
        "C3D_MEAN_PATH = 'https://github.com/adamcasson/c3d/releases/download/v0.1/c3d_mean.npy'"
      ],
      "execution_count": 0,
      "outputs": []
    },
    {
      "metadata": {
        "id": "n0IbdEdZZAJZ",
        "colab_type": "code",
        "colab": {
          "base_uri": "https://localhost:8080/",
          "height": 495
        },
        "outputId": "353019e9-1c0b-4a63-b6a0-f0813655ca07"
      },
      "cell_type": "code",
      "source": [
        "if K.image_data_format() == 'channels_last':    \n",
        "    shape0 = (16,112,112,3)    \n",
        "else:   \n",
        "    shape0 = (3,16,112,112)\n",
        "\n",
        "model_base = Sequential()\n",
        "    \n",
        "model_base.add(Conv3D(64, 3, activation='relu', padding='same', name='conv1', input_shape=shape0))\n",
        "model_base.add(MaxPooling3D(pool_size=(1,2,2), strides=(1,2,2), padding='same', name='pool1'))\n",
        "    \n",
        "model_base.add(Conv3D(128, 3, activation='relu', padding='same', name='conv2'))\n",
        "model_base.add(MaxPooling3D(pool_size=(2,2,2), strides=(2,2,2), padding='valid', name='pool2'))\n",
        "    \n",
        "model_base.add(Conv3D(256, 3, activation='relu', padding='same', name='conv3a'))\n",
        "model_base.add(Conv3D(256, 3, activation='relu', padding='same', name='conv3b'))\n",
        "model_base.add(MaxPooling3D(pool_size=(2,2,2), strides=(2,2,2), padding='valid', name='pool3'))\n",
        "    \n",
        "model_base.add(Conv3D(512, 3, activation='relu', padding='same', name='conv4a'))\n",
        "model_base.add(Conv3D(512, 3, activation='relu', padding='same', name='conv4b'))\n",
        "model_base.add(MaxPooling3D(pool_size=(2,2,2), strides=(2,2,2), padding='valid', name='pool4'))\n",
        "    \n",
        "model_base.add(Conv3D(512, 3, activation='relu', padding='same', name='conv5a'))\n",
        "model_base.add(Conv3D(512, 3, activation='relu', padding='same', name='conv5b'))\n",
        "model_base.add(ZeroPadding3D(padding=(0,1,1), name='padd'))\n",
        "\n",
        "model_base.add(MaxPooling3D(pool_size=(2,2,2), strides=(2,2,2), padding='valid', name='pool5'))\n",
        "    \n",
        "model_base.add(Flatten())\n",
        "    \n",
        "model_base.add(Dense(4096, activation='relu', name='fc6', input_shape = (8192,)))\n",
        "model_base.add(Dropout(0.5))\n",
        "model_base.add(Dense(4096, activation='relu', name='fc7'))\n",
        "model_base.add(Dropout(0.5))\n",
        "model_base.add(Dense(487, activation='softmax', name='fc_8'))\n",
        "\n",
        "weights_path = get_file('sports1M_weights_tf.h5',\n",
        "                         WEIGHTS_PATH,\n",
        "                         cache_subdir='models',\n",
        "                         md5_hash='b7a93b2f9156ccbebe3ca24b41fc5402')\n",
        "        \n",
        "model_base.load_weights(weights_path)\n",
        "\n",
        "model_base.pop()\n",
        "\n",
        "generator = Sequential()\n",
        "generator.add(Dense(8192, activation='relu', name='fc1', input_shape = (100,)))\n",
        "generator.add(BatchNormalization())\n",
        "generator.add(Dense(8192, activation='relu', name='fc2'))\n",
        "generator.add(BatchNormalization())\n",
        "\n",
        "discriminator = Sequential()\n",
        "discriminator.add(model_base.get_layer('fc6'))\n",
        "model_base.add(Dropout(0.5))\n",
        "discriminator.add(model_base.get_layer('fc7'))\n",
        "model_base.add(Dropout(0.5))\n",
        "\n",
        "generator.summary()\n",
        "discriminator.summary()"
      ],
      "execution_count": 102,
      "outputs": [
        {
          "output_type": "stream",
          "text": [
            "_________________________________________________________________\n",
            "Layer (type)                 Output Shape              Param #   \n",
            "=================================================================\n",
            "fc1 (Dense)                  (None, 8192)              827392    \n",
            "_________________________________________________________________\n",
            "batch_normalization_35 (Batc (None, 8192)              32768     \n",
            "_________________________________________________________________\n",
            "fc2 (Dense)                  (None, 8192)              67117056  \n",
            "_________________________________________________________________\n",
            "batch_normalization_36 (Batc (None, 8192)              32768     \n",
            "=================================================================\n",
            "Total params: 68,009,984\n",
            "Trainable params: 67,977,216\n",
            "Non-trainable params: 32,768\n",
            "_________________________________________________________________\n",
            "_________________________________________________________________\n",
            "Layer (type)                 Output Shape              Param #   \n",
            "=================================================================\n",
            "fc6 (Dense)                  (None, 4096)              33558528  \n",
            "_________________________________________________________________\n",
            "fc7 (Dense)                  (None, 4096)              16781312  \n",
            "=================================================================\n",
            "Total params: 50,339,840\n",
            "Trainable params: 50,339,840\n",
            "Non-trainable params: 0\n",
            "_________________________________________________________________\n"
          ],
          "name": "stdout"
        }
      ]
    },
    {
      "metadata": {
        "id": "ErFTGOPbbTN7",
        "colab_type": "code",
        "colab": {
          "base_uri": "https://localhost:8080/",
          "height": 1395
        },
        "outputId": "28f6211a-854a-402e-8304-c5a71b12f63d"
      },
      "cell_type": "code",
      "source": [
        "start_window = Input(shape=shape0, dtype='float32', name='start_window')\n",
        "followup_window = Input(shape=shape0, dtype='float32', name='followup_window')\n",
        "noise = Input(shape=(100,), dtype='float32', name='noise')\n",
        "\n",
        "# Global model\n",
        "Psi_G = discriminator(generator(noise))\n",
        "fc7 = model_base(start_window)\n",
        "out2 = model_base(followup_window)\n",
        "drop2 = Dropout(0.5)(fc7)\n",
        "fc8 = Dense(3, activation='sigmoid', name='fc8')\n",
        "fake = Lambda(lambda x: x,name='fake')(fc8(Psi_G))\n",
        "out = Subtract(name='out')([fc7, out2])\n",
        "\n",
        "model_global = Model([start_window,followup_window,noise],[fc8(drop2),out,fake])\n",
        "model_global.summary()\n",
        "\n",
        "# Generator model\n",
        "match = Subtract(name='match')([fc7, Psi_G])\n",
        "model_generator = Model([noise,start_window],match)\n",
        "model_generator.summary()\n",
        "\n",
        "# Discriminator model: we reuse the global structure but change the entries\n",
        "start_features = Input(shape=(8192,), dtype='float32', name='start_features')\n",
        "followup_features = Input(shape=(8192,), dtype='float32', name='followup_features')\n",
        "noisy_features = Input(shape=(8192,), dtype='float32', name='noisy_features')\n",
        "\n",
        "discriminator_s = discriminator(start_features)\n",
        "discriminator_f = discriminator(followup_features)\n",
        "discriminator_n = discriminator(noisy_features)\n",
        "consist = Subtract(name='consist')([discriminator_f, discriminator_s])\n",
        "hard_neg = Lambda(lambda x: x,name='hard_neg')(fc8(discriminator_n))\n",
        "\n",
        "model_discriminator = Model([start_features,followup_features,noisy_features],[fc8(discriminator_s),consist,hard_neg])\n",
        "model_discriminator.summary()"
      ],
      "execution_count": 110,
      "outputs": [
        {
          "output_type": "stream",
          "text": [
            "__________________________________________________________________________________________________\n",
            "Layer (type)                    Output Shape         Param #     Connected to                     \n",
            "==================================================================================================\n",
            "start_window (InputLayer)       (None, 16, 112, 112, 0                                            \n",
            "__________________________________________________________________________________________________\n",
            "noise (InputLayer)              (None, 100)          0                                            \n",
            "__________________________________________________________________________________________________\n",
            "sequential_54 (Sequential)      (None, 4096)         77995776    start_window[0][0]               \n",
            "                                                                 followup_window[0][0]            \n",
            "__________________________________________________________________________________________________\n",
            "sequential_55 (Sequential)      (None, 8192)         68009984    noise[0][0]                      \n",
            "__________________________________________________________________________________________________\n",
            "dropout_93 (Dropout)            (None, 4096)         0           sequential_54[13][0]             \n",
            "__________________________________________________________________________________________________\n",
            "followup_window (InputLayer)    (None, 16, 112, 112, 0                                            \n",
            "__________________________________________________________________________________________________\n",
            "sequential_56 (Sequential)      (None, 4096)         50339840    sequential_55[7][0]              \n",
            "__________________________________________________________________________________________________\n",
            "fc8 (Dense)                     (None, 3)            12291       sequential_56[19][0]             \n",
            "                                                                 dropout_93[0][0]                 \n",
            "__________________________________________________________________________________________________\n",
            "out (Subtract)                  (None, 4096)         0           sequential_54[13][0]             \n",
            "                                                                 sequential_54[14][0]             \n",
            "__________________________________________________________________________________________________\n",
            "fake (Lambda)                   (None, 3)            0           fc8[0][0]                        \n",
            "==================================================================================================\n",
            "Total params: 146,018,051\n",
            "Trainable params: 145,985,283\n",
            "Non-trainable params: 32,768\n",
            "__________________________________________________________________________________________________\n",
            "__________________________________________________________________________________________________\n",
            "Layer (type)                    Output Shape         Param #     Connected to                     \n",
            "==================================================================================================\n",
            "noise (InputLayer)              (None, 100)          0                                            \n",
            "__________________________________________________________________________________________________\n",
            "start_window (InputLayer)       (None, 16, 112, 112, 0                                            \n",
            "__________________________________________________________________________________________________\n",
            "sequential_55 (Sequential)      (None, 8192)         68009984    noise[0][0]                      \n",
            "__________________________________________________________________________________________________\n",
            "sequential_54 (Sequential)      (None, 4096)         77995776    start_window[0][0]               \n",
            "__________________________________________________________________________________________________\n",
            "sequential_56 (Sequential)      (None, 4096)         50339840    sequential_55[7][0]              \n",
            "__________________________________________________________________________________________________\n",
            "match (Subtract)                (None, 4096)         0           sequential_54[13][0]             \n",
            "                                                                 sequential_56[19][0]             \n",
            "==================================================================================================\n",
            "Total params: 146,005,760\n",
            "Trainable params: 145,972,992\n",
            "Non-trainable params: 32,768\n",
            "__________________________________________________________________________________________________\n",
            "__________________________________________________________________________________________________\n",
            "Layer (type)                    Output Shape         Param #     Connected to                     \n",
            "==================================================================================================\n",
            "start_features (InputLayer)     (None, 8192)         0                                            \n",
            "__________________________________________________________________________________________________\n",
            "followup_features (InputLayer)  (None, 8192)         0                                            \n",
            "__________________________________________________________________________________________________\n",
            "noisy_features (InputLayer)     (None, 8192)         0                                            \n",
            "__________________________________________________________________________________________________\n",
            "sequential_56 (Sequential)      (None, 4096)         50339840    start_features[0][0]             \n",
            "                                                                 followup_features[0][0]          \n",
            "                                                                 noisy_features[0][0]             \n",
            "__________________________________________________________________________________________________\n",
            "fc8 (Dense)                     (None, 3)            12291       sequential_56[22][0]             \n",
            "                                                                 sequential_56[20][0]             \n",
            "__________________________________________________________________________________________________\n",
            "consist (Subtract)              (None, 4096)         0           sequential_56[21][0]             \n",
            "                                                                 sequential_56[20][0]             \n",
            "__________________________________________________________________________________________________\n",
            "hard_neg (Lambda)               (None, 3)            0           fc8[2][0]                        \n",
            "==================================================================================================\n",
            "Total params: 50,352,131\n",
            "Trainable params: 50,352,131\n",
            "Non-trainable params: 0\n",
            "__________________________________________________________________________________________________\n"
          ],
          "name": "stdout"
        }
      ]
    },
    {
      "metadata": {
        "id": "Wcw9IpFpg2VK",
        "colab_type": "code",
        "colab": {}
      },
      "cell_type": "code",
      "source": [
        "def loss_classification(y_true, y_pred):\n",
        "    return -K.mean(K.log(K.dot(y_pred,K.transpose(y_true))), axis=-1)\n",
        "    \n",
        "def loss_temporal_consistency(y_true,y_pred):\n",
        "    return K.mean(K.square(K.dot(y_pred,K.transpose(y_true))), axis=-1)\n",
        "\n",
        "def loss_matching(y_true,y_pred):\n",
        "    return K.square(K.mean(K.dot(y_pred,K.transpose(y_true)), axis=-1))"
      ],
      "execution_count": 0,
      "outputs": []
    },
    {
      "metadata": {
        "id": "aGm0m4eLg_mS",
        "colab_type": "code",
        "colab": {}
      },
      "cell_type": "code",
      "source": [
        "model_global.compile(optimizer='adam',\n",
        "              loss={'fc8': loss_classification, 'out': loss_temporal_consistency, 'fake': loss_classification},\n",
        "              loss_weights={'fc8': 1, 'out': 1, 'fake':1})\n",
        "\n",
        "model_discriminator.compile(optimizer='adam',\n",
        "              loss={'fc8': loss_classification, 'consist': loss_temporal_consistency, 'hard_neg': loss_classification},\n",
        "              loss_weights={'fc8': 1, 'consist': 1, 'hard_neg':1})\n",
        "\n",
        "model_generator.compile(optimizer='adam', loss=loss_matching)"
      ],
      "execution_count": 0,
      "outputs": []
    },
    {
      "metadata": {
        "id": "3_sja5gW9Ir0",
        "colab_type": "code",
        "colab": {
          "base_uri": "https://localhost:8080/",
          "height": 631
        },
        "outputId": "ce31fd99-6cf6-4ab3-f244-af7a72142bf3"
      },
      "cell_type": "code",
      "source": [
        "import random \n",
        "import matplotlib.pyplot as plt \n",
        "\n",
        "\n",
        "path1 = '../content/Normal_Videos_050_x264.mp4'\n",
        "path2 = '../content/Abuse001_x264.mp4'\n",
        "\n",
        "\n",
        "Normal_Video = skvideo.io.vread(path1,\n",
        "                          outputdict={\n",
        "                            \"-sws_flags\": \"bilinear\",\n",
        "                            \"-s\": \"112x112\"\n",
        "                          })\n",
        "\n",
        "Abnormal_Video = skvideo.io.vread(path2,\n",
        "                          outputdict={\n",
        "                            \"-sws_flags\": \"bilinear\",\n",
        "                            \"-s\": \"112x112\"\n",
        "                          })\n",
        "\n",
        "action_intervals = [[230, 365], [-1,-1]]\n",
        "\n",
        "Videos = [Normal_Video, Abnormal_Video]\n",
        "\n",
        "\n",
        "# Let's train the model on two videos (Extansion well be easy)\n",
        "# We do just on training iteration, in which we create one batch containing Nb_training_examples = Nb_abnormal*15\n",
        "\n",
        "print(\"Constructing Postive Exapmles\")\n",
        "positive_indexes = []\n",
        "\n",
        "count = -1\n",
        "for action in range(len(action_intervals)):\n",
        "  positive_indexes.append([])\n",
        "  start = action_intervals[action][0]\n",
        "  idx = 0\n",
        "  while (start!=-1) and (idx < len(action_intervals[action])):\n",
        "    start = action_intervals[action][idx]\n",
        "    idx += 2\n",
        "    positive_indexes[action] = positive_indexes[action]+([start-15+i for i in range(15)])\n",
        "    \n",
        "    for i in range(15):\n",
        "      count += 1\n",
        "      if(count==0):\n",
        "        actuals = np.expand_dims(Videos[action][start-15+i:start+i+1], axis=0)\n",
        "        nexts = np.expand_dims(Videos[action][start+i+1:start+i+17], axis=0)\n",
        "      if(count>0):\n",
        "        actuals = np.vstack((actuals, np.expand_dims(Videos[action][start-15+i:start+i+1], axis=0)))\n",
        "        nexts   = np.vstack((nexts, np.expand_dims(Videos[action][start+i+1:start+i+17], axis=0)))\n",
        "\n",
        "nbr_positive = actuals.shape[0]\n",
        "print(\"Constructing Negativve Exapmles\")\n",
        "\n",
        "nbr_neg = 0 # nbr of negative examples selected \n",
        "while (nbr_neg<nbr_positive):\n",
        "  video_indx = random.randint(0,len(Videos)-1) #Pick randomly a video \n",
        "  start_frame = random.randint(0,Videos[video_indx].shape[0]-33)\n",
        "  \n",
        "  while (start_frame in positive_indexes[video_indx]):\n",
        "    start_frame = random.randint(0,Videos[video_indx].shape[0]-33) #pick a new sequence till it is abnormal\n",
        "  nbr_neg = nbr_neg + 1\n",
        "  \n",
        "  actuals = np.vstack((actuals, np.expand_dims(Videos[video_indx][start_frame:start_frame+16], axis=0)))\n",
        "  nexts   = np.vstack((nexts, np.expand_dims(Videos[video_indx][start_frame+16:start_frame+32], axis=0)))\n",
        "  \n",
        "inputs = [actuals, nexts]\n",
        "labels = np.zeros((nbr_positive+nbr_neg,1))\n",
        "labels[0:nbr_positive,:] += 1 \n",
        "\n",
        "labels_1 = labels\n",
        "\n",
        "labels = np.zeros((nbr_positive+nbr_neg,4096))\n",
        "labels[0:nbr_positive,:] += 1\n",
        "\n",
        "labels_2 = labels\n",
        "\n",
        "labels = [labels_1, labels_2]\n",
        "\n",
        "\n",
        "print(\"Start Training\")\n",
        "loss = model.train_on_batch(inputs, labels)"
      ],
      "execution_count": 98,
      "outputs": [
        {
          "output_type": "error",
          "ename": "FileNotFoundError",
          "evalue": "ignored",
          "traceback": [
            "\u001b[0;31m---------------------------------------------------------------------------\u001b[0m",
            "\u001b[0;31mFileNotFoundError\u001b[0m                         Traceback (most recent call last)",
            "\u001b[0;32m<ipython-input-98-37ecf57e5f7f>\u001b[0m in \u001b[0;36m<module>\u001b[0;34m()\u001b[0m\n\u001b[1;32m     10\u001b[0m                           outputdict={\n\u001b[1;32m     11\u001b[0m                             \u001b[0;34m\"-sws_flags\"\u001b[0m\u001b[0;34m:\u001b[0m \u001b[0;34m\"bilinear\"\u001b[0m\u001b[0;34m,\u001b[0m\u001b[0;34m\u001b[0m\u001b[0;34m\u001b[0m\u001b[0m\n\u001b[0;32m---> 12\u001b[0;31m                             \u001b[0;34m\"-s\"\u001b[0m\u001b[0;34m:\u001b[0m \u001b[0;34m\"112x112\"\u001b[0m\u001b[0;34m\u001b[0m\u001b[0;34m\u001b[0m\u001b[0m\n\u001b[0m\u001b[1;32m     13\u001b[0m                           })\n\u001b[1;32m     14\u001b[0m \u001b[0;34m\u001b[0m\u001b[0m\n",
            "\u001b[0;32m/usr/local/lib/python3.6/dist-packages/skvideo/io/io.py\u001b[0m in \u001b[0;36mvread\u001b[0;34m(fname, height, width, num_frames, as_grey, inputdict, outputdict, backend, verbosity)\u001b[0m\n\u001b[1;32m    142\u001b[0m             \u001b[0moutputdict\u001b[0m\u001b[0;34m[\u001b[0m\u001b[0;34m'-pix_fmt'\u001b[0m\u001b[0;34m]\u001b[0m \u001b[0;34m=\u001b[0m \u001b[0;34m'gray'\u001b[0m\u001b[0;34m\u001b[0m\u001b[0;34m\u001b[0m\u001b[0m\n\u001b[1;32m    143\u001b[0m \u001b[0;34m\u001b[0m\u001b[0m\n\u001b[0;32m--> 144\u001b[0;31m         \u001b[0mreader\u001b[0m \u001b[0;34m=\u001b[0m \u001b[0mFFmpegReader\u001b[0m\u001b[0;34m(\u001b[0m\u001b[0mfname\u001b[0m\u001b[0;34m,\u001b[0m \u001b[0minputdict\u001b[0m\u001b[0;34m=\u001b[0m\u001b[0minputdict\u001b[0m\u001b[0;34m,\u001b[0m \u001b[0moutputdict\u001b[0m\u001b[0;34m=\u001b[0m\u001b[0moutputdict\u001b[0m\u001b[0;34m,\u001b[0m \u001b[0mverbosity\u001b[0m\u001b[0;34m=\u001b[0m\u001b[0mverbosity\u001b[0m\u001b[0;34m)\u001b[0m\u001b[0;34m\u001b[0m\u001b[0;34m\u001b[0m\u001b[0m\n\u001b[0m\u001b[1;32m    145\u001b[0m         \u001b[0mT\u001b[0m\u001b[0;34m,\u001b[0m \u001b[0mM\u001b[0m\u001b[0;34m,\u001b[0m \u001b[0mN\u001b[0m\u001b[0;34m,\u001b[0m \u001b[0mC\u001b[0m \u001b[0;34m=\u001b[0m \u001b[0mreader\u001b[0m\u001b[0;34m.\u001b[0m\u001b[0mgetShape\u001b[0m\u001b[0;34m(\u001b[0m\u001b[0;34m)\u001b[0m\u001b[0;34m\u001b[0m\u001b[0;34m\u001b[0m\u001b[0m\n\u001b[1;32m    146\u001b[0m \u001b[0;34m\u001b[0m\u001b[0m\n",
            "\u001b[0;32m/usr/local/lib/python3.6/dist-packages/skvideo/io/ffmpeg.py\u001b[0m in \u001b[0;36m__init__\u001b[0;34m(self, filename, inputdict, outputdict, verbosity)\u001b[0m\n\u001b[1;32m     86\u001b[0m         \u001b[0mself\u001b[0m\u001b[0;34m.\u001b[0m\u001b[0mrotationAngle\u001b[0m \u001b[0;34m=\u001b[0m \u001b[0;34m'0'\u001b[0m\u001b[0;34m\u001b[0m\u001b[0;34m\u001b[0m\u001b[0m\n\u001b[1;32m     87\u001b[0m \u001b[0;34m\u001b[0m\u001b[0m\n\u001b[0;32m---> 88\u001b[0;31m         \u001b[0mself\u001b[0m\u001b[0;34m.\u001b[0m\u001b[0msize\u001b[0m \u001b[0;34m=\u001b[0m \u001b[0mos\u001b[0m\u001b[0;34m.\u001b[0m\u001b[0mpath\u001b[0m\u001b[0;34m.\u001b[0m\u001b[0mgetsize\u001b[0m\u001b[0;34m(\u001b[0m\u001b[0mfilename\u001b[0m\u001b[0;34m)\u001b[0m\u001b[0;34m\u001b[0m\u001b[0;34m\u001b[0m\u001b[0m\n\u001b[0m\u001b[1;32m     89\u001b[0m         \u001b[0mself\u001b[0m\u001b[0;34m.\u001b[0m\u001b[0mprobeInfo\u001b[0m \u001b[0;34m=\u001b[0m \u001b[0mffprobe\u001b[0m\u001b[0;34m(\u001b[0m\u001b[0mfilename\u001b[0m\u001b[0;34m)\u001b[0m\u001b[0;34m\u001b[0m\u001b[0;34m\u001b[0m\u001b[0m\n\u001b[1;32m     90\u001b[0m \u001b[0;34m\u001b[0m\u001b[0m\n",
            "\u001b[0;32m/usr/lib/python3.6/genericpath.py\u001b[0m in \u001b[0;36mgetsize\u001b[0;34m(filename)\u001b[0m\n\u001b[1;32m     48\u001b[0m \u001b[0;32mdef\u001b[0m \u001b[0mgetsize\u001b[0m\u001b[0;34m(\u001b[0m\u001b[0mfilename\u001b[0m\u001b[0;34m)\u001b[0m\u001b[0;34m:\u001b[0m\u001b[0;34m\u001b[0m\u001b[0;34m\u001b[0m\u001b[0m\n\u001b[1;32m     49\u001b[0m     \u001b[0;34m\"\"\"Return the size of a file, reported by os.stat().\"\"\"\u001b[0m\u001b[0;34m\u001b[0m\u001b[0;34m\u001b[0m\u001b[0m\n\u001b[0;32m---> 50\u001b[0;31m     \u001b[0;32mreturn\u001b[0m \u001b[0mos\u001b[0m\u001b[0;34m.\u001b[0m\u001b[0mstat\u001b[0m\u001b[0;34m(\u001b[0m\u001b[0mfilename\u001b[0m\u001b[0;34m)\u001b[0m\u001b[0;34m.\u001b[0m\u001b[0mst_size\u001b[0m\u001b[0;34m\u001b[0m\u001b[0;34m\u001b[0m\u001b[0m\n\u001b[0m\u001b[1;32m     51\u001b[0m \u001b[0;34m\u001b[0m\u001b[0m\n\u001b[1;32m     52\u001b[0m \u001b[0;34m\u001b[0m\u001b[0m\n",
            "\u001b[0;31mFileNotFoundError\u001b[0m: [Errno 2] No such file or directory: '../content/Normal_Videos_050_x264.mp4'"
          ]
        }
      ]
    },
    {
      "metadata": {
        "id": "rUbmWmpBPx5I",
        "colab_type": "code",
        "colab": {}
      },
      "cell_type": "code",
      "source": [
        "loss"
      ],
      "execution_count": 0,
      "outputs": []
    }
  ]
}