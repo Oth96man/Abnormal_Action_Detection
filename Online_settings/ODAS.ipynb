{
  "nbformat": 4,
  "nbformat_minor": 0,
  "metadata": {
    "colab": {
      "name": "ODAS.ipynb",
      "version": "0.3.2",
      "provenance": [],
      "collapsed_sections": []
    },
    "kernelspec": {
      "name": "python3",
      "display_name": "Python 3"
    }
  },
  "cells": [
    {
      "metadata": {
        "id": "48O0uHIae1NA",
        "colab_type": "code",
        "colab": {
          "base_uri": "https://localhost:8080/",
          "height": 35
        },
        "outputId": "c6420e05-2256-452d-ce0b-d148561e0ef4"
      },
      "cell_type": "code",
      "source": [
        "from keras.layers import Input, Conv3D, MaxPooling3D, Dense, Flatten, ZeroPadding3D, Dropout, Subtract\n",
        "from keras.models import Model\n",
        "import keras.backend as K\n",
        "import keras.losses\n",
        "keras.losses.loss_classification = loss_classification\n",
        "\n",
        "def ODAS():\n",
        "    \"\"\"Instantiates a ODAS Keras model\n",
        "    \n",
        "    Returns:\n",
        "    A Keras model.\n",
        "    \n",
        "    \"\"\"\n",
        "    \n",
        "    if K.image_data_format() == 'channels_last':\n",
        "        shape0 = (16,112,112,3)\n",
        "    else:\n",
        "        shape0 = (3,16,112,112)\n",
        "        \n",
        "        \n",
        "    main_input = Input(shape=shape0, dtype='float32', name='main_input')\n",
        "    \n",
        "    conv1 = Conv3D(64, 3, activation='relu', padding='same', name='conv1')(main_input)\n",
        "    pool1 = MaxPooling3D(pool_size=(1,2,2), strides=(1,2,2), padding='same', name='pool1')(conv1)\n",
        "    \n",
        "    conv2 = Conv3D(128, 3, activation='relu', padding='same', name='conv2')(pool1)\n",
        "    pool2 = MaxPooling3D(pool_size=(2,2,2), strides=(2,2,2), padding='valid', name='pool2')(conv2)\n",
        "    \n",
        "    conv3a = Conv3D(256, 3, activation='relu', padding='same', name='conv3a')(pool2)\n",
        "    conv3b = Conv3D(256, 3, activation='relu', padding='same', name='conv3b')(conv3a)\n",
        "    pool3 = MaxPooling3D(pool_size=(2,2,2), strides=(2,2,2), padding='valid', name='pool3')(conv3b)\n",
        "    \n",
        "    conv4a = Conv3D(512, 3, activation='relu', padding='same', name='conv4a')(pool3)\n",
        "    conv4b = Conv3D(512, 3, activation='relu', padding='same', name='conv4b')(conv4a)\n",
        "    pool4 = MaxPooling3D(pool_size=(2,2,2), strides=(2,2,2), padding='valid', name='pool4')(conv4b)\n",
        "    \n",
        "    conv5a = Conv3D(512, 3, activation='relu', padding='same', name='conv5a')(pool4)\n",
        "    conv5b = Conv3D(512, 3, activation='relu', padding='same', name='conv5b')(conv5a)\n",
        "    zero = ZeroPadding3D(padding=(0,1,1))(conv5b)\n",
        "    pool5 = MaxPooling3D(pool_size=(2,2,2), strides=(2,2,2), padding='valid', name='pool5')(zero)\n",
        "    \n",
        "    flat = Flatten()(pool5)\n",
        "    \n",
        "    fc6= Dense(4096, activation='relu', name='fc6')(flat)\n",
        "    drop1 = Dropout(0.5)(fc6)\n",
        "    fc7 = Dense(4096, activation='relu', name='fc7')(drop1)\n",
        "           \n",
        "    model_fc7 = Model(main_input, fc7)\n",
        "   \n",
        "    start_window = Input(shape=shape0)\n",
        "    followup_window = Input(shape=shape0)\n",
        "    \n",
        "    out1 = model_fc7(start_window)\n",
        "    out2 = model_fc7(followup_window)\n",
        "    out = Subtract(name='out')([out1, out2])\n",
        "    \n",
        "    drop2 = Dropout(0.5)(out1)\n",
        "    fc8 = Dense(2, activation='softmax', name='fc8')(drop2)\n",
        "    \n",
        "    model = Model([start_window,followup_window],[fc8,out])\n",
        "    \n",
        "    model.compile(optimizer='adam',\n",
        "              loss={'fc8': 'loss_classification', 'out': 'mean_squared_error'},\n",
        "              loss_weights={'fc8': 1., 'out': 1})\n",
        "    \n",
        "    return model\n",
        "\n",
        "def loss_classification(y_true, y_pred):\n",
        "    return -K.mean(K.log(K.dot(y_pred,K.transpose(y_true))))\n",
        "    \n",
        "def loss_temporal_consistency(out1, out2):\n",
        "    return K.mean(K.square(out1 - out2), axis=-1)\n",
        "\n",
        "ODAS()"
      ],
      "execution_count": 30,
      "outputs": [
        {
          "output_type": "execute_result",
          "data": {
            "text/plain": [
              "<keras.engine.training.Model at 0x7f2ebeb49ef0>"
            ]
          },
          "metadata": {
            "tags": []
          },
          "execution_count": 30
        }
      ]
    }
  ]
}